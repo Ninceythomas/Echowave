{
 "cells": [
  {
   "cell_type": "code",
   "execution_count": null,
   "metadata": {},
   "outputs": [
    {
     "ename": "",
     "evalue": "",
     "output_type": "error",
     "traceback": [
      "\u001b[1;31mThe kernel failed to start as the Python Environment 'anaconda3 (Python -1.-1.-1)' is no longer available. Consider selecting another kernel or refreshing the list of Python Environments."
     ]
    }
   ],
   "source": [
    "pip install yt-dlp\n"
   ]
  },
  {
   "cell_type": "code",
   "execution_count": 3,
   "metadata": {},
   "outputs": [
    {
     "ename": "ModuleNotFoundError",
     "evalue": "No module named 'yt_dlp'",
     "output_type": "error",
     "traceback": [
      "\u001b[1;31m---------------------------------------------------------------------------\u001b[0m",
      "\u001b[1;31mModuleNotFoundError\u001b[0m                       Traceback (most recent call last)",
      "\u001b[1;32m<ipython-input-3-1110a2c9e0f4>\u001b[0m in \u001b[0;36m<module>\u001b[1;34m\u001b[0m\n\u001b[0;32m      1\u001b[0m \u001b[1;32mimport\u001b[0m \u001b[0mos\u001b[0m\u001b[1;33m\u001b[0m\u001b[1;33m\u001b[0m\u001b[0m\n\u001b[1;32m----> 2\u001b[1;33m \u001b[1;32mimport\u001b[0m \u001b[0myt_dlp\u001b[0m\u001b[1;33m\u001b[0m\u001b[1;33m\u001b[0m\u001b[0m\n\u001b[0m\u001b[0;32m      3\u001b[0m \u001b[1;32mfrom\u001b[0m \u001b[0mmoviepy\u001b[0m\u001b[1;33m.\u001b[0m\u001b[0meditor\u001b[0m \u001b[1;32mimport\u001b[0m \u001b[0mVideoFileClip\u001b[0m\u001b[1;33m\u001b[0m\u001b[1;33m\u001b[0m\u001b[0m\n\u001b[0;32m      4\u001b[0m \u001b[1;32mfrom\u001b[0m \u001b[0mdeepgram\u001b[0m \u001b[1;32mimport\u001b[0m \u001b[0mDeepgramClient\u001b[0m\u001b[1;33m,\u001b[0m \u001b[0mPrerecordedOptions\u001b[0m\u001b[1;33m,\u001b[0m \u001b[0mFileSource\u001b[0m\u001b[1;33m\u001b[0m\u001b[1;33m\u001b[0m\u001b[0m\n\u001b[0;32m      5\u001b[0m \u001b[1;32mfrom\u001b[0m \u001b[0mgtts\u001b[0m \u001b[1;32mimport\u001b[0m \u001b[0mgTTS\u001b[0m\u001b[1;33m\u001b[0m\u001b[1;33m\u001b[0m\u001b[0m\n",
      "\u001b[1;31mModuleNotFoundError\u001b[0m: No module named 'yt_dlp'"
     ]
    }
   ],
   "source": [
    "import os\n",
    "import yt_dlp\n",
    "from moviepy.editor import VideoFileClip\n",
    "from deepgram import DeepgramClient, PrerecordedOptions, FileSource\n",
    "from gtts import gTTS\n",
    "import json\n",
    "\n",
    "video_url = \"https://youtu.be/vk_xq1P7vIU?si=v9-noi_NXARDLVmn\"\n",
    "save_path = r\"C:\\Users\\Nincey Infanta\\Documents\\yardstick\\downloaded/video.mp4\"\n",
    "DG_KEY = \"fa16c4732120dd95e1096cf968fb9f3aa8cb8e51\"  \n",
    "\n",
    "audio_path = os.path.join(save_path, \"extracted_audio.mp3\")\n",
    "transcript_file = os.path.join(save_path, \"transcript.json\")\n",
    "tts_output = os.path.join(save_path, \"final_speech.mp3\")\n",
    "\n",
    "\n",
    "\n",
    "def download_youtube_video_simple(url, save_path):\n",
    "    ydl_opts = {\n",
    "        'outtmpl': os.path.join(save_path, '%(title)s.%(ext)s'),\n",
    "        'format': 'best[ext=mp4][vcodec!=none][acodec!=none]',  \n",
    "    }\n",
    "\n",
    "    with yt_dlp.YoutubeDL(ydl_opts) as ydl:\n",
    "        info = ydl.extract_info(url, download=True)\n",
    "        filename = ydl.prepare_filename(info)\n",
    "        print(f\"Downloaded video to: {filename}\")\n",
    "        return filename\n",
    "\n",
    "\n",
    "\n",
    "def extract_audio(video_path, audio_output_path):\n",
    "    video = VideoFileClip(video_path)\n",
    "    video.audio.write_audiofile(audio_output_path)\n",
    "    print(f\"Audio extracted to: {audio_output_path}\")\n",
    "\n",
    "\n",
    "\n",
    "def transcribe_audio(audio_file_path, transcript_output, api_key):\n",
    "    deepgram = DeepgramClient(api_key)\n",
    "\n",
    "    with open(audio_file_path, \"rb\") as audio_file:\n",
    "        buffer_data = audio_file.read()\n",
    "\n",
    "    payload: FileSource = { \"buffer\": buffer_data }\n",
    "    options = PrerecordedOptions(model=\"nova-2\", smart_format=True)\n",
    "\n",
    "    response = deepgram.listen.prerecorded.v(\"1\").transcribe_file(payload, options)\n",
    "\n",
    "    with open(transcript_output, \"w\") as f:\n",
    "        f.write(response.to_json(indent=4))\n",
    "\n",
    "    print(\"Transcription saved to:\", transcript_output)\n",
    "\n",
    "\n",
    "def convert_text_to_speech(transcript_path, output_path):\n",
    "    with open(transcript_path, \"r\") as file:\n",
    "        data = json.load(file)\n",
    "        text = data['results']['channels'][0]['alternatives'][0]['transcript']\n",
    "\n",
    "    tts = gTTS(text)\n",
    "    tts.save(output_path)\n",
    "    print(f\"Text-to-speech saved to: {output_path}\")\n",
    "\n",
    "\n",
    "if __name__ == \"__main__\":\n",
    "    os.makedirs(save_path, exist_ok=True)\n",
    "\n",
    "    video_file_path = download_youtube_video_simple(video_url, save_path)\n",
    "    extract_audio(video_file_path, audio_path)\n",
    "    transcribe_audio(audio_path, transcript_file, DG_KEY)\n",
    "    convert_text_to_speech(transcript_file, tts_output)\n",
    "\n",
    "    print(\"\\n🎉 All steps completed successfully!\")\n"
   ]
  },
  {
   "cell_type": "code",
   "execution_count": 5,
   "metadata": {},
   "outputs": [],
   "source": [
    "from moviepy.editor import AudioFileClip\n",
    "from deepgram import DeepgramClient, PrerecordedOptions, FileSource\n",
    "\n",
    "def transcribe_audio(audio_file_path, transcript_output, api_key):\n",
    "    deepgram = DeepgramClient(api_key)\n",
    "\n",
    "    \n",
    "    duration = AudioFileClip(audio_file_path).duration\n",
    "\n",
    "    with open(audio_file_path, \"rb\") as audio_file:\n",
    "        buffer_data = audio_file.read()\n",
    "\n",
    "    payload: FileSource = {\"buffer\": buffer_data}\n",
    "\n",
    "    \n",
    "    options = PrerecordedOptions(\n",
    "        model=\"nova-2\",\n",
    "        smart_format=True,\n",
    "        language=\"en\",\n",
    "        punctuate=True,\n",
    "        utterances=False,\n",
    "        diarize=False,\n",
    "        multichannel=False,\n",
    "        tier=\"enhanced\",\n",
    "        redact={\"policy\": \"none\"},\n",
    "        numerals=True,\n",
    "        filler_words=False,\n",
    "        paragraph=True,\n",
    "        **{\"extra\": {\"duration\": duration}}\n",
    "    )\n",
    "\n",
    "    response = deepgram.listen.prerecorded.v(\"1\").transcribe_file(payload, options)\n",
    "\n",
    "    with open(transcript_output, \"w\", encoding=\"utf-8\") as f:\n",
    "        f.write(response.to_json(indent=4))\n",
    "\n",
    "    print(\"✅ Full transcription saved to:\", transcript_output)\n"
   ]
  },
  {
   "cell_type": "code",
   "execution_count": null,
   "metadata": {},
   "outputs": [
    {
     "name": "stdout",
     "output_type": "stream",
     "text": [
      "Transcript saved with clean line-by-line formatting.\n"
     ]
    }
   ],
   "source": [
    "import re\n",
    "\n",
    "with open(transcript_file, \"r\") as file:\n",
    "    data = json.load(file)\n",
    "    transcript_text = data['results']['channels'][0]['alternatives'][0]['transcript']\n",
    "\n",
    "\n",
    "sentences = re.split(r'(?<=[.!?])\\s+', transcript_text.strip())\n",
    "\n",
    "\n",
    "with open(os.path.join(save_path, \"transcript.txt\"), \"w\", encoding=\"utf-8\") as txt_file:\n",
    "    for sentence in sentences:\n",
    "        txt_file.write(sentence.strip() + \"\\n\")\n",
    "\n",
    "print(\"Transcript saved with clean line-by-line formatting.\")\n"
   ]
  }
 ],
 "metadata": {
  "kernelspec": {
   "display_name": "base",
   "language": "python",
   "name": "python3"
  },
  "language_info": {
   "codemirror_mode": {
    "name": "ipython",
    "version": 3
   },
   "file_extension": ".py",
   "mimetype": "text/x-python",
   "name": "python",
   "nbconvert_exporter": "python",
   "pygments_lexer": "ipython3",
   "version": "3.8.5"
  }
 },
 "nbformat": 4,
 "nbformat_minor": 2
}
